{
 "cells": [
  {
   "cell_type": "markdown",
   "id": "d3bfc191-8885-42ee-b0a0-bbab867c6f9f",
   "metadata": {
    "tags": []
   },
   "source": [
    "# Lab | Flow Control"
   ]
  },
  {
   "cell_type": "markdown",
   "id": "3851fcd1-cf98-4653-9c89-e003b7ec9400",
   "metadata": {},
   "source": [
    "## Exercise: Managing Customer Orders Optimized\n",
    "\n",
    "In the last lab, you were starting an online store that sells various products. To ensure smooth operations, you developed a program that manages customer orders and inventory.\n",
    "\n",
    "You did so without using flow control. Let's go a step further and improve this code.\n",
    "\n",
    "Follow the steps below to complete the exercise:\n",
    "\n",
    "1. Look at your code from the lab data structures, and improve repeated code with loops.\n",
    "\n",
    "2. Instead of asking the user to input the name of three products that a customer wants to order, do the following:\n",
    "    \n",
    "    a. Prompt the user to enter the name of a product that a customer wants to order.\n",
    "    \n",
    "    b. Add the product name to the \"customer_orders\" set.\n",
    "    \n",
    "    c. Ask the user if they want to add another product (yes/no).\n",
    "    \n",
    "    d. Continue the loop until the user does not want to add another product.\n",
    "\n",
    "3. Instead of updating the inventory by subtracting 1 from the quantity of each product, only do it for  the products that were ordered (those in \"customer_orders\")."
   ]
  },
  {
   "cell_type": "code",
   "execution_count": 92,
   "id": "cf163863-cd88-4d1d-944f-7d47556e8a44",
   "metadata": {
    "tags": []
   },
   "outputs": [],
   "source": [
    "#Solution_1\n",
    "\n",
    "products = [\"t-shirt\", \"mug\", \"hat\", \"book\", \"keychain\"]"
   ]
  },
  {
   "cell_type": "code",
   "execution_count": 94,
   "id": "24fd25b0-ede9-4450-a6eb-e7afbdf239d1",
   "metadata": {
    "tags": []
   },
   "outputs": [],
   "source": [
    "#Solution_2\n",
    "\n",
    "inventory = {}"
   ]
  },
  {
   "cell_type": "code",
   "execution_count": 96,
   "id": "d7623edf-9df7-46de-b52a-f6832dc5b004",
   "metadata": {
    "tags": []
   },
   "outputs": [
    {
     "name": "stdin",
     "output_type": "stream",
     "text": [
      "Enter the number of t-shirts 7\n",
      "Enter the number of mugs 7\n",
      "Enter the number of hats 7\n",
      "Enter the number of books 7\n",
      "Enter the number of keychains 7\n"
     ]
    },
    {
     "name": "stdout",
     "output_type": "stream",
     "text": [
      "{'t-shirt': 7, 'mug': 7, 'hat': 7, 'book': 7, 'keychain': 7}\n"
     ]
    }
   ],
   "source": [
    "#Solution_3\n",
    "\n",
    "for item in products:\n",
    "    quantity_of_items = int(input(f\"Enter the number of {item}s\"))\n",
    "    inventory[item] = quantity_of_items\n",
    "\n",
    "print(inventory)"
   ]
  },
  {
   "cell_type": "code",
   "execution_count": 98,
   "id": "39a7ad16-7eec-49d7-9d18-4c564249a891",
   "metadata": {
    "tags": []
   },
   "outputs": [],
   "source": [
    "#Solution_4\n",
    "\n",
    "customer_orders = set()"
   ]
  },
  {
   "cell_type": "code",
   "execution_count": 100,
   "id": "4f94e1f2-3215-4238-a25a-4963cd82f8e8",
   "metadata": {
    "tags": []
   },
   "outputs": [
    {
     "name": "stdin",
     "output_type": "stream",
     "text": [
      "Enter the name of product you would like to order:  Book\n",
      "Do you want to add another product? (Yes or NO) hat\n",
      "Please enter Yes or NO! Do you want to add another product? Yes\n",
      "Enter the name of product you would like to order:  Hat\n",
      "Do you want to add another product? (Yes or NO) mu\n",
      "Please enter Yes or NO! Do you want to add another product? Yes\n",
      "Enter the name of product you would like to order:  mug\n",
      "Do you want to add another product? (Yes or NO) no\n"
     ]
    }
   ],
   "source": [
    "#Solution_5 \n",
    "\n",
    "one_more_product = \"yes\"\n",
    "\n",
    "while one_more_product == \"yes\":\n",
    "        product = input(\"Enter the name of product you would like to order: \").lower()\n",
    "        customer_orders.add(product)  \n",
    "        one_more_product = input(\"Do you want to add another product? (Yes or NO)\").lower()\n",
    "        while one_more_product != \"yes\" and one_more_product != \"no\":\n",
    "            one_more_product = input(\"Please enter Yes or NO! Do you want to add another product?\").lower()"
   ]
  },
  {
   "cell_type": "code",
   "execution_count": 102,
   "id": "6c9fb95b-6906-49b4-afdd-f8a7001f54fd",
   "metadata": {
    "tags": []
   },
   "outputs": [
    {
     "name": "stdout",
     "output_type": "stream",
     "text": [
      "{'book', 'hat', 'mug'}\n"
     ]
    }
   ],
   "source": [
    "#Solution_6\n",
    "\n",
    "print(customer_orders)"
   ]
  },
  {
   "cell_type": "code",
   "execution_count": null,
   "id": "06781806-6e9a-4577-bef0-9344d4e04782",
   "metadata": {},
   "outputs": [],
   "source": [
    "#Solution_7\n",
    "\n",
    "number_of_products_in_customer_orders = len(customer_orders)\n",
    "print(f\"Number of elements in set: {number_of_products_in_customer_orders}\")\n",
    "\n",
    "total_number_of_products = 0\n",
    "for item in customer_orders:\n",
    "    total_number_of_products += inventory.get(item, 0)\n",
    "\n",
    "print(f\"The total number of products: {total_number_of_products}\")\n",
    "\n",
    "total_available_products = sum(inventory.values())\n",
    "percentage_of_products_ordered = total_number_of_products / total_available_products * 100\n",
    "\n",
    "print(f\"Percentage of Products Ordered: {percentage_of_products_ordered}%\")\n",
    "\n",
    "order_status = (total_available_products, percentage_of_products_ordered)\n",
    "print(order_status)"
   ]
  },
  {
   "cell_type": "code",
   "execution_count": null,
   "id": "5531d6b3-dc02-4537-a81b-572c9d63a720",
   "metadata": {},
   "outputs": [],
   "source": [
    "#Solution_8\n",
    "\n",
    "#Print the order statistics using the following format:\n",
    "\n",
    "order_statistics = f\"Order Statistics:\\n\" + \\\n",
    "f\"Total Products Ordered: {total_number_of_products}\\n\" + \\\n",
    "f\"Percentage of Products Ordered: {percentage_of_products_ordered}%\" \n",
    "\n",
    "print(order_statistics)"
   ]
  },
  {
   "cell_type": "code",
   "execution_count": 104,
   "id": "56e2b96b-2300-464f-bfb1-6141dac084b6",
   "metadata": {
    "tags": []
   },
   "outputs": [],
   "source": [
    "#Solution_9\n",
    "\n",
    "for item in customer_orders:\n",
    "    inventory[item] -= 1"
   ]
  },
  {
   "cell_type": "code",
   "execution_count": 108,
   "id": "89e6f74e-db21-4e6b-87d4-95a4bc276e04",
   "metadata": {
    "tags": []
   },
   "outputs": [
    {
     "name": "stdout",
     "output_type": "stream",
     "text": [
      "t-shirt: 7\n",
      "mug: 6\n",
      "hat: 6\n",
      "book: 6\n",
      "keychain: 7\n"
     ]
    }
   ],
   "source": [
    "#Solution_10\n",
    "\n",
    "for k, v in inventory.items():\n",
    "    print(f\"{k}: {v}\")"
   ]
  }
 ],
 "metadata": {
  "kernelspec": {
   "display_name": "Python 3 (ipykernel)",
   "language": "python",
   "name": "python3"
  },
  "language_info": {
   "codemirror_mode": {
    "name": "ipython",
    "version": 3
   },
   "file_extension": ".py",
   "mimetype": "text/x-python",
   "name": "python",
   "nbconvert_exporter": "python",
   "pygments_lexer": "ipython3",
   "version": "3.11.7"
  }
 },
 "nbformat": 4,
 "nbformat_minor": 5
}
