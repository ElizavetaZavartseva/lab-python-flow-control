{
 "cells": [
  {
   "cell_type": "markdown",
   "id": "d3bfc191-8885-42ee-b0a0-bbab867c6f9f",
   "metadata": {
    "tags": []
   },
   "source": [
    "# Lab | Flow Control"
   ]
  },
  {
   "cell_type": "markdown",
   "id": "3851fcd1-cf98-4653-9c89-e003b7ec9400",
   "metadata": {},
   "source": [
    "## Exercise: Managing Customer Orders Optimized\n",
    "\n",
    "In the last lab, you were starting an online store that sells various products. To ensure smooth operations, you developed a program that manages customer orders and inventory.\n",
    "\n",
    "You did so without using flow control. Let's go a step further and improve this code.\n",
    "\n",
    "Follow the steps below to complete the exercise:\n",
    "\n",
    "1. Look at your code from the lab data structures, and improve repeated code with loops.\n",
    "\n",
    "2. Instead of asking the user to input the name of three products that a customer wants to order, do the following:\n",
    "    \n",
    "    a. Prompt the user to enter the name of a product that a customer wants to order.\n",
    "    \n",
    "    b. Add the product name to the \"customer_orders\" set.\n",
    "    \n",
    "    c. Ask the user if they want to add another product (yes/no).\n",
    "    \n",
    "    d. Continue the loop until the user does not want to add another product.\n",
    "\n",
    "3. Instead of updating the inventory by subtracting 1 from the quantity of each product, only do it for  the products that were ordered (those in \"customer_orders\")."
   ]
  },
  {
   "cell_type": "code",
   "execution_count": 143,
   "id": "cf163863-cd88-4d1d-944f-7d47556e8a44",
   "metadata": {
    "tags": []
   },
   "outputs": [
    {
     "name": "stdin",
     "output_type": "stream",
     "text": [
      "Enter the number of t-shirts 7\n",
      "Enter the number of mugs 7\n",
      "Enter the number of hats 7\n",
      "Enter the number of books 7\n",
      "Enter the number of keychains 7\n"
     ]
    },
    {
     "name": "stdout",
     "output_type": "stream",
     "text": [
      "{'t-shirt': 7, 'mug': 7, 'hat': 7, 'book': 7, 'keychain': 7}\n"
     ]
    }
   ],
   "source": [
    "#Solution_1\n",
    "\n",
    "products = [\"t-shirt\", \"mug\", \"hat\", \"book\", \"keychain\"]\n",
    "\n",
    "inventory = {}\n",
    "\n",
    "for item in products:\n",
    "    quantity_of_items = int(input(f\"Enter the number of {item}s\"))\n",
    "    inventory[item] = quantity_of_items\n",
    "\n",
    "print(inventory)\n",
    "\n",
    "customer_orders = set()"
   ]
  },
  {
   "cell_type": "code",
   "execution_count": 145,
   "id": "4f94e1f2-3215-4238-a25a-4963cd82f8e8",
   "metadata": {
    "tags": []
   },
   "outputs": [
    {
     "name": "stdin",
     "output_type": "stream",
     "text": [
      "Enter the name of product you would like to order:  book\n",
      "Do you want to add another product? (Yes or NO) yes\n",
      "Enter the name of product you would like to order:  hat\n",
      "Do you want to add another product? (Yes or NO) yes\n",
      "Enter the name of product you would like to order:  mug\n",
      "Do you want to add another product? (Yes or NO) oo\n",
      "Please enter Yes or NO! Do you want to add another product? yes\n",
      "Enter the name of product you would like to order:  mug\n",
      "Do you want to add another product? (Yes or NO) hhh\n",
      "Please enter Yes or NO! Do you want to add another product? no\n"
     ]
    },
    {
     "name": "stdout",
     "output_type": "stream",
     "text": [
      "{'book', 'hat', 'mug'}\n"
     ]
    }
   ],
   "source": [
    "#Solution_2\n",
    "\n",
    "one_more_product = \"yes\"\n",
    "\n",
    "while one_more_product == \"yes\":\n",
    "        product = input(\"Enter the name of product you would like to order: \").lower()\n",
    "        customer_orders.add(product)  \n",
    "        one_more_product = input(\"Do you want to add another product? (Yes or NO)\").lower()\n",
    "        while one_more_product != \"yes\" and one_more_product != \"no\":\n",
    "            one_more_product = input(\"Please enter Yes or NO! Do you want to add another product?\").lower()\n",
    "            \n",
    "print(customer_orders)            "
   ]
  },
  {
   "cell_type": "code",
   "execution_count": 147,
   "id": "56e2b96b-2300-464f-bfb1-6141dac084b6",
   "metadata": {
    "tags": []
   },
   "outputs": [
    {
     "name": "stdout",
     "output_type": "stream",
     "text": [
      "t-shirt: 7\n",
      "mug: 6\n",
      "hat: 6\n",
      "book: 6\n",
      "keychain: 7\n"
     ]
    }
   ],
   "source": [
    "#Solution_3\n",
    "\n",
    "for item in customer_orders:\n",
    "    inventory[item] -= 1\n",
    "    \n",
    "for k, v in inventory.items():\n",
    "    print(f\"{k}: {v}\")"
   ]
  }
 ],
 "metadata": {
  "kernelspec": {
   "display_name": "Python 3 (ipykernel)",
   "language": "python",
   "name": "python3"
  },
  "language_info": {
   "codemirror_mode": {
    "name": "ipython",
    "version": 3
   },
   "file_extension": ".py",
   "mimetype": "text/x-python",
   "name": "python",
   "nbconvert_exporter": "python",
   "pygments_lexer": "ipython3",
   "version": "3.11.7"
  }
 },
 "nbformat": 4,
 "nbformat_minor": 5
}
